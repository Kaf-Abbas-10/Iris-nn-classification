{
  "cells": [
    {
      "cell_type": "markdown",
      "id": "34bad134",
      "metadata": {
        "id": "34bad134"
      },
      "source": [
        "# Lab Task: Classification using Neural Networks in PyTorch (Iris Dataset)\n",
        "### Objective:\n",
        "In this task, you will build a neural network for classifying the Iris dataset. The task is divided into five clear parts."
      ]
    },
    {
      "cell_type": "markdown",
      "id": "1dd0ec91",
      "metadata": {
        "id": "1dd0ec91"
      },
      "source": [
        "## Dataset:\n",
        "You will use the **Iris dataset** (available in `sklearn.datasets`). It has 4 features:\n",
        "- `sepal length`\n",
        "- `sepal width`\n",
        "- `petal length`\n",
        "- `petal width`\n",
        "\n",
        "And 3 target classes:\n",
        "- Setosa (0)\n",
        "- Versicolour (1)\n",
        "- Virginica (2)"
      ]
    },
    {
      "cell_type": "markdown",
      "id": "8145588a",
      "metadata": {
        "id": "8145588a"
      },
      "source": [
        "## PART 1: Data Preprocessing"
      ]
    },
    {
      "cell_type": "markdown",
      "id": "0cbf3aca",
      "metadata": {
        "id": "0cbf3aca"
      },
      "source": [
        "Perform the following steps:\n",
        "1. Load the dataset using `sklearn.datasets.load_iris()`.\n",
        "2. Convert it to a Pandas DataFrame.\n",
        "3. Shuffle the dataset.\n",
        "4. Check for missing values.\n",
        "5. Normalize the feature columns using `StandardScaler`.\n",
        "6. Split the data into **80% training** and **20% testing**.\n",
        "7. Convert the data into PyTorch tensors."
      ]
    },
    {
      "cell_type": "code",
      "execution_count": 62,
      "id": "64fbf64e",
      "metadata": {
        "id": "64fbf64e"
      },
      "outputs": [],
      "source": [
        "# TODO BY STUDENTS: Import required libraries\n",
        "import pandas as pd\n",
        "import numpy as np\n",
        "from sklearn import datasets\n",
        "from sklearn.model_selection import train_test_split\n",
        "from sklearn.preprocessing import StandardScaler\n",
        "import torch"
      ]
    },
    {
      "cell_type": "code",
      "execution_count": 63,
      "id": "ffc1654a",
      "metadata": {
        "id": "ffc1654a",
        "colab": {
          "base_uri": "https://localhost:8080/"
        },
        "outputId": "461869c3-6a13-4bbf-95b7-e607c8fdf1bd"
      },
      "outputs": [
        {
          "output_type": "stream",
          "name": "stdout",
          "text": [
            "   sepal length (cm)  sepal width (cm)  petal length (cm)  petal width (cm)  \\\n",
            "0                5.1               3.5                1.4               0.2   \n",
            "1                4.9               3.0                1.4               0.2   \n",
            "2                4.7               3.2                1.3               0.2   \n",
            "3                4.6               3.1                1.5               0.2   \n",
            "4                5.0               3.6                1.4               0.2   \n",
            "\n",
            "   label  \n",
            "0      0  \n",
            "1      0  \n",
            "2      0  \n",
            "3      0  \n",
            "4      0  \n"
          ]
        }
      ],
      "source": [
        "# TODO: Preprocess the Iris dataset step-by-step\n",
        "iris = datasets.load_iris()\n",
        "\n",
        "X = iris.data\n",
        "y = iris.target\n",
        "\n",
        "# Convert to DataFrame for visualization\n",
        "df = pd.DataFrame(X, columns=iris.feature_names)\n",
        "df['label'] = y\n",
        "print(df.head())\n",
        "\n",
        "# Split into train/test sets\n",
        "X_train, X_test, y_train, y_test = train_test_split(X, y, test_size=0.2, random_state=42)\n",
        "\n",
        "# Standardize features\n",
        "scaler = StandardScaler()\n",
        "X_train = scaler.fit_transform(X_train)\n",
        "X_test = scaler.transform(X_test)\n",
        "\n",
        "# Convert to PyTorch tensors\n",
        "X_train_tensor = torch.tensor(X_train, dtype=torch.float32)\n",
        "X_test_tensor = torch.tensor(X_test, dtype=torch.float32)\n",
        "y_train_tensor = torch.tensor(y_train, dtype=torch.long)\n",
        "y_test_tensor = torch.tensor(y_test, dtype=torch.long)\n",
        "\n"
      ]
    },
    {
      "cell_type": "markdown",
      "id": "7c94d86b",
      "metadata": {
        "id": "7c94d86b"
      },
      "source": [
        "## Feedforward Neural Network"
      ]
    },
    {
      "cell_type": "markdown",
      "id": "6c772a6e",
      "metadata": {
        "id": "6c772a6e"
      },
      "source": [
        "Build a PyTorch neural network with the following architecture:\n",
        "\n",
        "- Input Layer: 4 neurons\n",
        "- Hidden Layer 1: 10 neurons + ReLU\n",
        "- Output Layer: 3 neurons (no activation here, handled by loss function)\n",
        "\n",
        "Use `nn.CrossEntropyLoss()` as the loss function."
      ]
    },
    {
      "cell_type": "code",
      "execution_count": 64,
      "id": "fe4b488e",
      "metadata": {
        "id": "fe4b488e"
      },
      "outputs": [],
      "source": [
        "# model with architecture\n",
        "import torch.nn as nn\n",
        "class Net(nn.Module):\n",
        "    def __init__(self):\n",
        "        super(Net, self).__init__()\n",
        "        # your code here\n",
        "        self.fc1 = nn.Linear(4, 10)  # Input to hidden layer\n",
        "        self.fc2 = nn.Linear(10, 3)  # Hidden to output layer\n",
        "\n",
        "    def forward(self, x):\n",
        "        # your code here\n",
        "        x = torch.relu(self.fc1(x))\n",
        "        x = self.fc2(x)\n",
        "        return x\n",
        "\n",
        "model_1 = Net()"
      ]
    },
    {
      "cell_type": "markdown",
      "id": "3933fe02",
      "metadata": {
        "id": "3933fe02"
      },
      "source": [
        "## PART 2: Modify Architecture"
      ]
    },
    {
      "cell_type": "markdown",
      "id": "14d10817",
      "metadata": {
        "id": "14d10817"
      },
      "source": [
        "Update your model as follows:\n",
        "- Input Layer: 4 neurons (unchanged)\n",
        "- Hidden Layer 1: 16 neurons + ReLU\n",
        "- Hidden Layer 2: 8 neurons + ReLU\n",
        "- Output Layer: 3 neurons"
      ]
    },
    {
      "cell_type": "code",
      "execution_count": 65,
      "id": "29518c59",
      "metadata": {
        "id": "29518c59"
      },
      "outputs": [],
      "source": [
        "# TODO: Modify model to have two hidden layers\n",
        "class NetModified(nn.Module):\n",
        "    def __init__(self):\n",
        "        super(NetModified, self).__init__()\n",
        "        # your code here\n",
        "        self.fc1 = nn.Linear(4, 16)  # Input to hidden layer 1\n",
        "        self.fc2 = nn.Linear(16, 8)  # Hidden layer 1 to hidden layer 2\n",
        "        self.fc3 = nn.Linear(8, 3)  # Hidden to output layer\n",
        "\n",
        "    def forward(self, x):\n",
        "        # your code here\n",
        "        x = torch.relu(self.fc1(x))\n",
        "        x = torch.relu(self.fc2(x))\n",
        "        x = self.fc3(x)\n",
        "        return x\n",
        "\n",
        "model_2 = NetModified()"
      ]
    },
    {
      "cell_type": "markdown",
      "id": "51d58b60",
      "metadata": {
        "id": "51d58b60"
      },
      "source": [
        "## PART 3: Apply Optimizer and Train models"
      ]
    },
    {
      "cell_type": "markdown",
      "id": "c4c20999",
      "metadata": {
        "id": "c4c20999"
      },
      "source": [
        "Use the following settings:\n",
        "- Optimizer: **Adam**\n",
        "- Learning Rate: `0.01`\n",
        "- Number of Epochs: `300`\n",
        "\n",
        "Train the updated model and log loss."
      ]
    },
    {
      "cell_type": "code",
      "execution_count": 66,
      "id": "6029ab19",
      "metadata": {
        "id": "6029ab19",
        "colab": {
          "base_uri": "https://localhost:8080/",
          "height": 973
        },
        "outputId": "3f190253-437b-4fac-8656-1f89628a79ab"
      },
      "outputs": [
        {
          "output_type": "stream",
          "name": "stdout",
          "text": [
            "Epoch [10/300], Loss: 0.8977\n",
            "Epoch [20/300], Loss: 0.6519\n",
            "Epoch [30/300], Loss: 0.4881\n",
            "Epoch [40/300], Loss: 0.3822\n",
            "Epoch [50/300], Loss: 0.3007\n",
            "Epoch [60/300], Loss: 0.2343\n",
            "Epoch [70/300], Loss: 0.1824\n",
            "Epoch [80/300], Loss: 0.1448\n",
            "Epoch [90/300], Loss: 0.1189\n",
            "Epoch [100/300], Loss: 0.1017\n",
            "Epoch [110/300], Loss: 0.0898\n",
            "Epoch [120/300], Loss: 0.0811\n",
            "Epoch [130/300], Loss: 0.0748\n",
            "Epoch [140/300], Loss: 0.0701\n",
            "Epoch [150/300], Loss: 0.0665\n",
            "Epoch [160/300], Loss: 0.0634\n",
            "Epoch [170/300], Loss: 0.0609\n",
            "Epoch [180/300], Loss: 0.0588\n",
            "Epoch [190/300], Loss: 0.0569\n",
            "Epoch [200/300], Loss: 0.0553\n",
            "Epoch [210/300], Loss: 0.0540\n",
            "Epoch [220/300], Loss: 0.0529\n",
            "Epoch [230/300], Loss: 0.0519\n",
            "Epoch [240/300], Loss: 0.0510\n",
            "Epoch [250/300], Loss: 0.0503\n",
            "Epoch [260/300], Loss: 0.0496\n",
            "Epoch [270/300], Loss: 0.0490\n",
            "Epoch [280/300], Loss: 0.0484\n",
            "Epoch [290/300], Loss: 0.0479\n",
            "Epoch [300/300], Loss: 0.0474\n"
          ]
        },
        {
          "output_type": "display_data",
          "data": {
            "text/plain": [
              "<Figure size 640x480 with 1 Axes>"
            ],
            "image/png": "[encoded data removed]"
          },
          "metadata": {}
        }
      ],
      "source": [
        "  # TODO: Train the model and plot loss (for model_1)\n",
        "  import torch.optim as optim\n",
        "  import matplotlib.pyplot as plt\n",
        "\n",
        "  # Your code here\n",
        "  loss_fn = nn.CrossEntropyLoss()\n",
        "  optimizer = optim.Adam(model_1.parameters(), lr=0.01)\n",
        "\n",
        "  losses = []\n",
        "  epochs = 300\n",
        "  for epoch in range(epochs):\n",
        "      y_pred = model_1(X_train_tensor)\n",
        "      loss = loss_fn(y_pred, y_train_tensor)\n",
        "      losses.append(loss.item())\n",
        "      optimizer.zero_grad()\n",
        "      loss.backward()\n",
        "      optimizer.step()\n",
        "      if (epoch + 1) % 10 == 0:\n",
        "          print(f\"Epoch [{epoch+1}/{epochs}], Loss: {loss.item():.4f}\")\n",
        "\n",
        "\n",
        "  plt.plot(losses)\n",
        "  plt.title('Training Loss')\n",
        "  plt.show()"
      ]
    },
    {
      "cell_type": "code",
      "execution_count": 67,
      "id": "VZ8kYOV1B8Wz",
      "metadata": {
        "id": "VZ8kYOV1B8Wz",
        "colab": {
          "base_uri": "https://localhost:8080/",
          "height": 973
        },
        "outputId": "68b5f52e-d657-42fd-b498-cc909076633d"
      },
      "outputs": [
        {
          "output_type": "stream",
          "name": "stdout",
          "text": [
            "Epoch [10/300], Loss: 0.7729\n",
            "Epoch [20/300], Loss: 0.5054\n",
            "Epoch [30/300], Loss: 0.3295\n",
            "Epoch [40/300], Loss: 0.2193\n",
            "Epoch [50/300], Loss: 0.1254\n",
            "Epoch [60/300], Loss: 0.0788\n",
            "Epoch [70/300], Loss: 0.0608\n",
            "Epoch [80/300], Loss: 0.0539\n",
            "Epoch [90/300], Loss: 0.0505\n",
            "Epoch [100/300], Loss: 0.0485\n",
            "Epoch [110/300], Loss: 0.0471\n",
            "Epoch [120/300], Loss: 0.0461\n",
            "Epoch [130/300], Loss: 0.0451\n",
            "Epoch [140/300], Loss: 0.0441\n",
            "Epoch [150/300], Loss: 0.0431\n",
            "Epoch [160/300], Loss: 0.0420\n",
            "Epoch [170/300], Loss: 0.0408\n",
            "Epoch [180/300], Loss: 0.0396\n",
            "Epoch [190/300], Loss: 0.0384\n",
            "Epoch [200/300], Loss: 0.0372\n",
            "Epoch [210/300], Loss: 0.0358\n",
            "Epoch [220/300], Loss: 0.0344\n",
            "Epoch [230/300], Loss: 0.0327\n",
            "Epoch [240/300], Loss: 0.0307\n",
            "Epoch [250/300], Loss: 0.0285\n",
            "Epoch [260/300], Loss: 0.0263\n",
            "Epoch [270/300], Loss: 0.0239\n",
            "Epoch [280/300], Loss: 0.0213\n",
            "Epoch [290/300], Loss: 0.0186\n",
            "Epoch [300/300], Loss: 0.0160\n"
          ]
        },
        {
          "output_type": "display_data",
          "data": {
            "text/plain": [
              "<Figure size 640x480 with 1 Axes>"
            ],
            "image/png": "[encoded data removed]"
          },
          "metadata": {}
        }
      ],
      "source": [
        "# TODO: Train the model and plot loss (for model_2)\n",
        "import torch.optim as optim\n",
        "import matplotlib.pyplot as plt\n",
        "\n",
        "# Your code here\n",
        "loss_fn = nn.CrossEntropyLoss()\n",
        "optimizer = optim.Adam(model_2.parameters(), lr=0.01)\n",
        "\n",
        "losses = []\n",
        "epochs = 300\n",
        "for epoch in range(epochs):\n",
        "    y_pred = model_2(X_train_tensor)\n",
        "    loss = loss_fn(y_pred, y_train_tensor)\n",
        "    losses.append(loss.item())\n",
        "    optimizer.zero_grad()\n",
        "    loss.backward()\n",
        "    optimizer.step()\n",
        "    if (epoch + 1) % 10 == 0:\n",
        "        print(f\"Epoch [{epoch+1}/{epochs}], Loss: {loss.item():.4f}\")\n",
        "\n",
        "\n",
        "plt.plot(losses)\n",
        "plt.title('Training Loss')\n",
        "plt.show()"
      ]
    },
    {
      "cell_type": "markdown",
      "id": "2dd45e3a",
      "metadata": {
        "id": "2dd45e3a"
      },
      "source": [
        "## Evaluation of the Models"
      ]
    },
    {
      "cell_type": "markdown",
      "id": "UnEQxQAmCNBi",
      "metadata": {
        "id": "UnEQxQAmCNBi"
      },
      "source": [
        "### **For model_1**"
      ]
    },
    {
      "cell_type": "code",
      "execution_count": 68,
      "id": "df6b606e",
      "metadata": {
        "id": "df6b606e",
        "colab": {
          "base_uri": "https://localhost:8080/"
        },
        "outputId": "3846d27a-2172-4113-d529-f21c39220c4d"
      },
      "outputs": [
        {
          "output_type": "stream",
          "name": "stdout",
          "text": [
            "Accuracy: 100.00%\n",
            "[[10  0  0]\n",
            " [ 0  9  0]\n",
            " [ 0  0 11]]\n"
          ]
        }
      ],
      "source": [
        "# TODO: Predict and calculate accuracy\n",
        "from sklearn.metrics import accuracy_score, confusion_matrix\n",
        "\n",
        "# your code here\n",
        "with torch.no_grad():\n",
        "    y_test_pred = model_1(X_test_tensor)\n",
        "    _, predicted = torch.max(y_test_pred, 1)\n",
        "\n",
        "# Convert to NumPy arrays\n",
        "y_pred_np = predicted.cpu().numpy()\n",
        "y_true_np = y_test_tensor.cpu().numpy()\n",
        "\n",
        "# Calculate metrics\n",
        "acc = accuracy_score(y_true_np, y_pred_np)\n",
        "cm = confusion_matrix(y_true_np, y_pred_np)\n",
        "\n",
        "print(f'Accuracy: {acc * 100:.2f}%')\n",
        "print(cm)\n"
      ]
    },
    {
      "cell_type": "markdown",
      "id": "hIn1juqYCQ3n",
      "metadata": {
        "id": "hIn1juqYCQ3n"
      },
      "source": [
        "## **For model_2**"
      ]
    },
    {
      "cell_type": "code",
      "execution_count": 69,
      "id": "_IgLnFJeCTNj",
      "metadata": {
        "id": "_IgLnFJeCTNj",
        "colab": {
          "base_uri": "https://localhost:8080/"
        },
        "outputId": "56d3003f-c43b-496a-d3d4-76a1daad9368"
      },
      "outputs": [
        {
          "output_type": "stream",
          "name": "stdout",
          "text": [
            "Accuracy: 96.67%\n",
            "[[10  0  0]\n",
            " [ 0  9  0]\n",
            " [ 0  1 10]]\n"
          ]
        }
      ],
      "source": [
        "2# TODO: Predict and calculate accuracy\n",
        "from sklearn.metrics import accuracy_score, confusion_matrix\n",
        "\n",
        "# your code here\n",
        "with torch.no_grad():\n",
        "    y_test_pred = model_2(X_test_tensor)\n",
        "    _, predicted = torch.max(y_test_pred, 1)\n",
        "\n",
        "# Convert to NumPy arrays\n",
        "y_pred_np = predicted.cpu().numpy()\n",
        "y_true_np = y_test_tensor.cpu().numpy()\n",
        "\n",
        "# Calculate metrics\n",
        "acc = accuracy_score(y_true_np, y_pred_np)\n",
        "cm = confusion_matrix(y_true_np, y_pred_np)\n",
        "\n",
        "print(f'Accuracy: {acc * 100:.2f}%')\n",
        "print(cm)\n",
        "\n"
      ]
    },
    {
      "cell_type": "code",
      "source": [],
      "metadata": {
        "id": "qXKNbPN32t_j"
      },
      "id": "qXKNbPN32t_j",
      "execution_count": 69,
      "outputs": []
    }
  ],
  "metadata": {
    "colab": {
      "provenance": []
    },
    "kernelspec": {
      "display_name": "base",
      "language": "python",
      "name": "python3"
    },
    "language_info": {
      "codemirror_mode": {
        "name": "ipython",
        "version": 3
      },
      "file_extension": ".py",
      "mimetype": "text/x-python",
      "name": "python",
      "nbconvert_exporter": "python",
      "pygments_lexer": "ipython3",
      "version": "3.12.4"
    }
  },
  "nbformat": 4,
  "nbformat_minor": 5
}